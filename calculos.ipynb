{
 "cells": [
  {
   "cell_type": "code",
   "execution_count": 2,
   "metadata": {},
   "outputs": [],
   "source": [
    "# Energia gerada: calcula a energia gerada pelo sistema fotovoltaico\n",
    "# irradiancia: irradiação solar média diária no local (kWh/m²/dia) \n",
    "# area: espaço disponível para os painéis, área disponível para os painéis (m²)\n",
    "# eficiência: eficiência do painel solar (percentual, entre 0 e 1)\n",
    "# dias_no_mes: número de dias do mês\n",
    "\n",
    "# Economia mensal: Calcula a economia mensal gerada pelo sistema de energia solar\n",
    "# energia_gerada: energia gerada pelo sistema (em kWh)\n",
    "# custo_por_kwh: Custo da energia elétrica na rede (R$/kWh)\n",
    "# return: Economia mensal em R$\n",
    "\n",
    "# Payback: calcula o tempo de retorno sobre o investimento (payback)\n",
    "# custo_instalacao: Custo total da instalação (em R$)\n",
    "# economia_mensal: Economia mensal gerada (em R$)\n",
    "# return: Tempo de payback (em meses)\n",
    "    \n",
    "def energia_gerada(area, irradiancia, eficiencia, dias_no_mes=30): \n",
    "    energia_diaria = area * irradiancia * eficiencia\n",
    "    energia_mensal = energia_diaria * dias_no_mes\n",
    "    return energia_mensal\n",
    "\n",
    "def economia_mensal(energia_gerada, custo_por_kwh):\n",
    "    return energia_gerada * custo_por_kwh\n",
    "\n",
    "def payback(custo_instalacao, economia_mensal):\n",
    "    return custo_instalacao / economia_mensal\n"
   ]
  }
 ],
 "metadata": {
  "kernelspec": {
   "display_name": "Python 3",
   "language": "python",
   "name": "python3"
  },
  "language_info": {
   "codemirror_mode": {
    "name": "ipython",
    "version": 3
   },
   "file_extension": ".py",
   "mimetype": "text/x-python",
   "name": "python",
   "nbconvert_exporter": "python",
   "pygments_lexer": "ipython3",
   "version": "3.12.4"
  }
 },
 "nbformat": 4,
 "nbformat_minor": 2
}
